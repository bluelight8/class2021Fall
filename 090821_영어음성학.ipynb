{
  "nbformat": 4,
  "nbformat_minor": 0,
  "metadata": {
    "colab": {
      "name": "090821 영어음성학.ipynb",
      "provenance": [],
      "authorship_tag": "ABX9TyNwrfT5yMPajQLm8sjygE4g",
      "include_colab_link": true
    },
    "kernelspec": {
      "name": "python3",
      "display_name": "Python 3"
    },
    "language_info": {
      "name": "python"
    }
  },
  "cells": [
    {
      "cell_type": "markdown",
      "metadata": {
        "id": "view-in-github",
        "colab_type": "text"
      },
      "source": [
        "<a href=\"https://colab.research.google.com/github/bluelight8/class2021Fall/blob/main/090821_%EC%98%81%EC%96%B4%EC%9D%8C%EC%84%B1%ED%95%99.ipynb\" target=\"_parent\"><img src=\"https://colab.research.google.com/assets/colab-badge.svg\" alt=\"Open In Colab\"/></a>"
      ]
    },
    {
      "cell_type": "markdown",
      "metadata": {
        "id": "WuNVIghd8Sgl"
      },
      "source": [
        "첫 노트북 파일입니다."
      ]
    },
    {
      "cell_type": "code",
      "metadata": {
        "colab": {
          "base_uri": "https://localhost:8080/"
        },
        "id": "Rajdo6fH8Cym",
        "outputId": "f71500f6-a553-474d-fa68-c4f7c852090e"
      },
      "source": [
        "a=1\n",
        "b=2\n",
        "c=3\n",
        "d=a+b+c\n",
        "print(d)"
      ],
      "execution_count": 2,
      "outputs": [
        {
          "output_type": "stream",
          "name": "stdout",
          "text": [
            "6\n"
          ]
        }
      ]
    }
  ]
}